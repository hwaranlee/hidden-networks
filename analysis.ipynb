{
 "cells": [
  {
   "cell_type": "markdown",
   "metadata": {},
   "source": [
    "import torch\n",
    "import torch.nn as nn\n",
    "import torch.nn.parallel\n",
    "import torch.backends.cudnn as cudnn"
   ]
  },
  {
   "cell_type": "code",
   "execution_count": 2,
   "metadata": {},
   "outputs": [],
   "source": [
    "model = torch.load('runs/conv4_usc_unsigned/example/prune_rate=0.5/9/checkpoints/model_best.pth')"
   ]
  },
  {
   "cell_type": "code",
   "execution_count": 3,
   "metadata": {},
   "outputs": [
    {
     "name": "stdout",
     "output_type": "stream",
     "text": [
      "Conv4\n"
     ]
    }
   ],
   "source": [
    "print(model['arch'])"
   ]
  },
  {
   "cell_type": "code",
   "execution_count": 4,
   "metadata": {},
   "outputs": [
    {
     "name": "stdout",
     "output_type": "stream",
     "text": [
      "odict_keys(['module.convs.0.weight', 'module.convs.0.scores', 'module.convs.2.weight', 'module.convs.2.scores', 'module.convs.5.weight', 'module.convs.5.scores', 'module.convs.7.weight', 'module.convs.7.scores', 'module.linear.0.weight', 'module.linear.0.scores', 'module.linear.2.weight', 'module.linear.2.scores', 'module.linear.4.weight', 'module.linear.4.scores'])\n"
     ]
    }
   ],
   "source": [
    "print(model['state_dict'].keys())"
   ]
  },
  {
   "cell_type": "code",
   "execution_count": 5,
   "metadata": {},
   "outputs": [],
   "source": [
    "import matplotlib.pyplot as plt\n",
    "import numpy as np"
   ]
  },
  {
   "cell_type": "code",
   "execution_count": 6,
   "metadata": {},
   "outputs": [
    {
     "data": {
      "text/plain": [
       "<BarContainer object of 1728 artists>"
      ]
     },
     "execution_count": 6,
     "metadata": {},
     "output_type": "execute_result"
    },
    {
     "data": {
      "image/png": "[encoded data removed]",
      "text/plain": [
       "<Figure size 432x288 with 1 Axes>"
      ]
     },
     "metadata": {
      "needs_background": "light"
     },
     "output_type": "display_data"
    }
   ],
   "source": [
    "score = model['state_dict']['module.convs.0.scores'].cpu()\n",
    "score, _ = score.flatten().abs().sort(descending=True)\n",
    "plt.bar(np.arange(len(score)), score.numpy())"
   ]
  },
  {
   "cell_type": "code",
   "execution_count": 7,
   "metadata": {},
   "outputs": [
    {
     "data": {
      "text/plain": [
       "<BarContainer object of 36864 artists>"
      ]
     },
     "execution_count": 7,
     "metadata": {},
     "output_type": "execute_result"
    },
    {
     "data": {
      "image/png": "[encoded data removed]",
      "text/plain": [
       "<Figure size 432x288 with 1 Axes>"
      ]
     },
     "metadata": {
      "needs_background": "light"
     },
     "output_type": "display_data"
    }
   ],
   "source": [
    "score = model['state_dict']['module.convs.2.scores'].cpu()\n",
    "score, _ = score.flatten().abs().sort(descending=True)\n",
    "plt.bar(np.arange(len(score)), score.numpy())"
   ]
  },
  {
   "cell_type": "code",
   "execution_count": null,
   "metadata": {},
   "outputs": [
    {
     "data": {
      "text/plain": [
       "<BarContainer object of 73728 artists>"
      ]
     },
     "execution_count": 8,
     "metadata": {},
     "output_type": "execute_result"
    }
   ],
   "source": [
    "score = model['state_dict']['module.convs.5.scores'].cpu()\n",
    "score, _ = score.flatten().abs().sort(descending=True)\n",
    "plt.bar(np.arange(len(score)), score.numpy())"
   ]
  },
  {
   "cell_type": "code",
   "execution_count": 9,
   "metadata": {},
   "outputs": [
    {
     "data": {
      "text/plain": [
       "<BarContainer object of 147456 artists>"
      ]
     },
     "execution_count": 9,
     "metadata": {},
     "output_type": "execute_result"
    },
    {
     "data": {
      "image/png": "[encoded data removed]",
      "text/plain": [
       "<Figure size 432x288 with 1 Axes>"
      ]
     },
     "metadata": {
      "needs_background": "light"
     },
     "output_type": "display_data"
    }
   ],
   "source": [
    "score = model['state_dict']['module.convs.7.scores'].cpu()\n",
    "score, _ = score.flatten().abs().sort(descending=True)\n",
    "plt.bar(np.arange(len(score)), score.numpy())"
   ]
  },
  {
   "cell_type": "code",
   "execution_count": null,
   "metadata": {},
   "outputs": [],
   "source": [
    "score = model['state_dict']['module.linear.0.scores'].cpu()\n",
    "score, _ = score.flatten().abs().sort(descending=True)\n",
    "plt.bar(np.arange(len(score)), score.numpy())"
   ]
  },
  {
   "cell_type": "code",
   "execution_count": null,
   "metadata": {},
   "outputs": [],
   "source": [
    "score = model['state_dict']['module.linear.2.scores'].cpu()\n",
    "score, _ = score.flatten().abs().sort(descending=True)\n",
    "plt.bar(np.arange(len(score)), score.numpy())"
   ]
  },
  {
   "cell_type": "code",
   "execution_count": null,
   "metadata": {},
   "outputs": [],
   "source": [
    "score = model['state_dict']['module.linear.4.scores'].cpu()\n",
    "score, _ = score.flatten().abs().sort(descending=True)\n",
    "plt.bar(np.arange(len(score)), score.numpy())"
   ]
  },
  {
   "cell_type": "code",
   "execution_count": null,
   "metadata": {},
   "outputs": [],
   "source": []
  }
 ],
 "metadata": {
  "kernelspec": {
   "display_name": "Python 3",
   "language": "python",
   "name": "python3"
  },
  "language_info": {
   "codemirror_mode": {
    "name": "ipython",
    "version": 3
   },
   "file_extension": ".py",
   "mimetype": "text/x-python",
   "name": "python",
   "nbconvert_exporter": "python",
   "pygments_lexer": "ipython3",
   "version": "3.6.9"
  }
 },
 "nbformat": 4,
 "nbformat_minor": 4
}
